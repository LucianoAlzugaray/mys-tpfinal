{
 "cells": [
  {
   "cell_type": "markdown",
   "metadata": {},
   "source": [
    "# Modelos y Simulaciones"
   ]
  },
  {
   "cell_type": "markdown",
   "metadata": {},
   "source": [
    "### Importamos librerias"
   ]
  },
  {
   "cell_type": "code",
   "execution_count": 177,
   "metadata": {},
   "outputs": [],
   "source": [
    "import numpy as np\n",
    "import random\n",
    "import math\n",
    "import queue"
   ]
  },
  {
   "cell_type": "markdown",
   "metadata": {},
   "source": [
    "### Generamos valores aleatorios"
   ]
  },
  {
   "cell_type": "code",
   "execution_count": 191,
   "metadata": {},
   "outputs": [],
   "source": [
    "## Obtiene una velocidad probabilistica para cargar pizzas\n",
    "def velocidad_carga_pizza():\n",
    "    return np.random.exponential(1/10)\n",
    "\n",
    "## Obtiene un tiempo de entrega probabilistico\n",
    "def tiempo_entrega():\n",
    "    return np.random.exponential(1/10)\n",
    "\n",
    "## Obtiene si se convenció al cliente o no de cambiar el tipo de pizza\n",
    "def cliente_convencido():\n",
    "    return np.random.binomial(1, 0.3) == 1\n",
    "\n",
    "## Obtiene pedidos generados en una hora\n",
    "def pedidos_generados():\n",
    "    return np.random.poisson(20)\n",
    "\n",
    "## Obtiene el minuto  de un pedido en una hora\n",
    "def pedido_en_hora():\n",
    "    return math.trunc(random.uniform(0,60))\n",
    "\n",
    "## Genera tipo de pizza aleatorio\n",
    "## se tiene que asegurar que la nueva pizza no sea la misma que ya pidio\n",
    "def generar_tipo_de_pizza():\n",
    "    opcion = random.random()\n",
    "    if(opcion < 0.05):\n",
    "        return 'anana'\n",
    "    elif(opcion < 0.20):\n",
    "        return 'calabresa'\n",
    "    elif(opcion < 0.55):\n",
    "        return 'mozzarella'\n",
    "    elif(opcion < 0.75):\n",
    "        return 'fugazzeta'\n",
    "    else:\n",
    "        return 'napolitana'\n",
    "    \n",
    "## Obtiene una ubicación del cliente aleatoria\n",
    "def generar_ubicacion_cliente():\n",
    "    ubicacion = np.random.normal(0, 10, 2)\n",
    "    return ubicacion * 100 ##Para que quede como maximo 2000 como en el gráfico de bruno"
   ]
  },
  {
   "cell_type": "code",
   "execution_count": 192,
   "metadata": {},
   "outputs": [
    {
     "name": "stdout",
     "output_type": "stream",
     "text": [
      "[1150.69494897 1110.1149252 ]\n",
      "[531.85612118  83.73732475]\n",
      "[  571.44708359 -1717.04071483]\n",
      "[ -747.90054739 -1252.85613447]\n",
      "[  48.53890452 -722.39441768]\n",
      "[1292.40441752 1675.31636187]\n",
      "[-1557.43778419   661.44425466]\n",
      "[-976.47034005  926.1343431 ]\n",
      "[  434.11846524 -1012.3981857 ]\n",
      "[1019.19173017 -417.26263417]\n"
     ]
    }
   ],
   "source": [
    "for i in range(10):\n",
    "    print(generar_ubicacion_cliente())"
   ]
  },
  {
   "cell_type": "markdown",
   "metadata": {},
   "source": [
    "### Generamos eventos"
   ]
  },
  {
   "cell_type": "markdown",
   "metadata": {},
   "source": [
    "#### Evento de cliente llama y pide una pizza"
   ]
  },
  {
   "cell_type": "code",
   "execution_count": 179,
   "metadata": {},
   "outputs": [],
   "source": [
    "class LlamoClienteEvent:\n",
    "    limite = 2000\n",
    "    def __init__(self, hora):\n",
    "        self.hora = pedido_en_hora() + hora * 60\n",
    "        self.tipo = generar_tipo_de_pizza()\n",
    "        self.ubicacion = generar_ubicacion_cliente()\n",
    "    \n",
    "    def cliente_esta_en_rango(self):\n",
    "        cateto1 = self.ubicacion[0]\n",
    "        cateto2 = self.ubicacion[1]\n",
    "        ##calculamos hipotenusa\n",
    "        hipotenusa = math.sqrt(math.pow(cateto1) + math.pow(cateto2))\n",
    "        return hipotenusa <= self.limite\n",
    "        \n",
    "    def obtener_camionetas_disponibles(self, camionetas):\n",
    "        return [camioneta for camioneta in camionetas if camioneta.disponible]\n",
    "    \n",
    "    def camionetas_con_pizza_pedida(self, tipo, camionetas):\n",
    "        return [camioneta for camioneta in camionetas if camioneta.tiene_tipo(tipo)]\n",
    "    \n",
    "    def obtener_distancia(punto1, punto2):\n",
    "        cateto1 = punto2[0] - punto1[0]\n",
    "        cateto2 = punto2[1] - punto1[1]\n",
    "        ##calculamos distancia\n",
    "        return math.sqrt(math.pow(cateto1) + math.pow(cateto2))\n",
    "    \n",
    "    def obtener_camioneta_mas_cercana(self, ubicacion, camionetas):\n",
    "        #obtenemos distancia entre las camionetas y la ubicacion del pedido\n",
    "        distancias = map(lambda camioneta: (self.obtener_distancia(camioneta.ubicacion, self.ubicacion), camioneta), camionetas)\n",
    "        #obtenemos la minima distancia\n",
    "        distancia_minima = min(distancias, key=lambda distancia: distancia[0])\n",
    "        #obtenemos camioneta\n",
    "        return distancia_minima[1]\n",
    "    \n",
    "    ##REFACTORIZAR\n",
    "    def ejecutarActividad(self, dia):\n",
    "        if(self.cliente_esta_en_rango()):\n",
    "            camionetas_disponibles = self.obtener_camionetas_disponibles(dia.camionetas)\n",
    "            if(len(camionetas_disponibles) == 0):\n",
    "                dia.encolar_cliente(self)\n",
    "            else:\n",
    "                camionetas_posibles_de_envio = self.camionetas_con_pizza_pedida(self.tipo, camionetas_disponibles)\n",
    "                if (len(camionetas_posibles_de_envio) > 0):\n",
    "                    camioneta = self.obtener_camioneta_mas_cercana(self.ubicacion, camionetas_posibles_de_envio)\n",
    "                    enviar_pedido(camioneta, dia)\n",
    "                else:\n",
    "                    if (cliente_convencido()):\n",
    "                        tipo_pizza = generar_tipo_de_pizza()\n",
    "                    else:\n",
    "                        camioneta = obtener_camioneta_mas_cercana([0,0], camionetas_disponibles)\n",
    "                        cargar_camioneta(camioneta)\n",
    "        else: \n",
    "            self.rechazar_pedido(dia)\n",
    " \n",
    "    def rechazar_pedido(self, dia):\n",
    "        dia.pedidos_rechazados += 1\n",
    "        "
   ]
  },
  {
   "cell_type": "markdown",
   "metadata": {},
   "source": [
    "#### Evento de vencimiento de pizza"
   ]
  },
  {
   "cell_type": "code",
   "execution_count": 180,
   "metadata": {},
   "outputs": [],
   "source": [
    "class PizzaVenceEvent:\n",
    "    tiempo_vencimiento_de_pizza = 120\n",
    "    \n",
    "    def __init__(self, pizza, camioneta):\n",
    "        self.hora = pizza.hora + self.tiempo_vencimiento_de_pizza\n",
    "        self.pizza = pizza\n",
    "        self.camioneta = camioneta\n",
    "\n",
    "    def ejecutarActividad(self, dia):\n",
    "        self.camioneta.quitar_pizza(self.pizza)\n",
    "        dia.desperdicio += 1"
   ]
  },
  {
   "cell_type": "code",
   "execution_count": 173,
   "metadata": {},
   "outputs": [
    {
     "data": {
      "text/plain": [
       "array([-15.05889324,  32.8773531 ])"
      ]
     },
     "execution_count": 173,
     "metadata": {},
     "output_type": "execute_result"
    }
   ],
   "source": [
    "generar_ubicacion_cliente()"
   ]
  },
  {
   "cell_type": "markdown",
   "metadata": {},
   "source": [
    "3 Formas de realizar los calculos finales de la simulacion.\n",
    "\n",
    "1. Directamente hacer sumatorias de las cosas. \n",
    "2. Arreglo donde cada columna es los datos de un dia y cada fila es un dia\n",
    "3. Arreglo de Dias."
   ]
  },
  {
   "cell_type": "code",
   "execution_count": 79,
   "metadata": {},
   "outputs": [],
   "source": [
    "class Pizza:\n",
    "    def __init__(self, tipo, hora):\n",
    "        self.tipo = tipo\n",
    "        self.hora = hora\n",
    "\n",
    "class Camioneta:\n",
    "    pizzas_maximas = 40\n",
    "    def __init__(self):\n",
    "        self.ubicacion = [0, 0]\n",
    "        self.pizzas = []\n",
    "        self.disponible = True\n",
    "        \n",
    "    def cargar_camionetas(self, hora, fel):\n",
    "        cantidad_pizzas_a_cargar = pizzas_maximas - len(self.pizzas)\n",
    "        for i in range(cantidad_pizzas_a_cargar):\n",
    "            pizza = self.generar_pizza(hora, fel)\n",
    "            self.pizzas.append(pizza)\n",
    "    \n",
    "    def generar_pizza(self, hora, fel):\n",
    "        tipo = generar_tipo_de_pizza()\n",
    "        pizza = Pizza(tipo, hora)\n",
    "        self.generar_evento_de_vencimiento(pizza, fel)\n",
    "        return pizza\n",
    "        \n",
    "    def generar_evento_de_vencimiento(self, pizza, fel):\n",
    "        vencimiento_de_pizza = PizzaVenceEvent(pizza, self)\n",
    "        fel.append(vencimiento_de_pizza)\n",
    "\n",
    "    def quitar_pizza(self, pizza):\n",
    "        self.pizzas.remove(pizza)\n",
    "        \n",
    "    def tiene_tipo(self, tipo):\n",
    "        lista_de_pizzas_de_tipo = [pizza for pizza in self.pizzas if pizza.tipo == tipo]\n",
    "        return len(lista_de_pizzas_de_tipo) > 0\n",
    "    \n",
    "class Simulacion:\n",
    "    experimentos = 10\n",
    "    dias_a_simular = 365\n",
    "    horas_por_dia = 12\n",
    "    \n",
    "    def __init__():\n",
    "        minutos_maximo = 60 * horas_por_dia\n",
    "        self.camionetas = [Camioneta(), Camioneta(),Camioneta(), Camioneta()]\n",
    "\n",
    "class Dia:\n",
    "    def __init__(self, camionetas):\n",
    "        self.camionetas = camionetas\n",
    "        self.tiempo_actual = 0\n",
    "        self.pedidos_rechazado = 0\n",
    "        self.cola_espera_clientes = queue.Queue()\n",
    "        self.desperdicios = 0\n",
    "        \n",
    "    def iniciar_dia(self):\n",
    "        tiempo_actual = 0\n",
    "        self.fel = generar_pedidos()\n",
    "        self.ubicar_camionetas()\n",
    "        self.cargar_camionetas()\n",
    "    \n",
    "    def ubicar_camionetas(self):\n",
    "        for camioneta in self.camionetas:\n",
    "            camioneta.ubicacion = [0, 0]\n",
    "\n",
    "    def generar_pedidos_en_hora(self, hora):\n",
    "        eventos_de_pedidos = []\n",
    "        for i in range(pedidos_generados()): \n",
    "            llamaClienteEvent = LlamoClienteEvent()\n",
    "            eventos_de_pedidos.append(llamaClienteEvent)\n",
    "        return eventos_de_pedidos\n",
    "\n",
    "    def generar_pedidos(self):\n",
    "        fel = []\n",
    "        for i in range(12):\n",
    "            fel += generar_pedidos_en_hora(i)\n",
    "        return fel\n",
    "            \n",
    "    def cargar_camionetas(self):\n",
    "        for camioneta in self.camionetas:\n",
    "            camioneta.cargar_pizzas(self.tiempo_actual, self.fel)\n",
    "    \n",
    "    def encolar_cliente(self, cliente):\n",
    "        self.cola_espera_clientes.put(cliente)\n",
    "    \n",
    "    def termino_dia(self):\n",
    "        return tiempo_actual > minutos_maximo\n",
    "    \n",
    "    def acciones_finales_del_dia(self):\n",
    "        limpiar_pizzas_en_camionetas(self.camionetas)\n",
    "    \n",
    "    ## OBTENER CLIENTE CON ESTA FUNCION\n",
    "    def obtener_cliente_de_cola():\n",
    "        if not self.cola_espera_clientes.empty():\n",
    "            return self.cola_espera_clientes.get()\n",
    "        else\n",
    "            return None"
   ]
  },
  {
   "cell_type": "code",
   "execution_count": 1,
   "metadata": {},
   "outputs": [
    {
     "ename": "ModuleNotFoundError",
     "evalue": "No module named '__main__.Simulacion'; '__main__' is not a package",
     "output_type": "error",
     "traceback": [
      "\u001b[0;31m---------------------------------------------------------------------------\u001b[0m",
      "\u001b[0;31mModuleNotFoundError\u001b[0m                       Traceback (most recent call last)",
      "\u001b[0;32m<ipython-input-1-f87e33587978>\u001b[0m in \u001b[0;36m<module>\u001b[0;34m\u001b[0m\n\u001b[0;32m----> 1\u001b[0;31m \u001b[0;32mfrom\u001b[0m \u001b[0;34m.\u001b[0m\u001b[0mSimulacion\u001b[0m \u001b[0;32mimport\u001b[0m \u001b[0mSimulacion\u001b[0m\u001b[0;34m\u001b[0m\u001b[0;34m\u001b[0m\u001b[0m\n\u001b[0m",
      "\u001b[0;31mModuleNotFoundError\u001b[0m: No module named '__main__.Simulacion'; '__main__' is not a package"
     ]
    }
   ],
   "source": [
    "from .Simulacion import Simulacion"
   ]
  },
  {
   "cell_type": "code",
   "execution_count": null,
   "metadata": {},
   "outputs": [],
   "source": []
  },
  {
   "cell_type": "code",
   "execution_count": null,
   "metadata": {},
   "outputs": [],
   "source": []
  },
  {
   "cell_type": "code",
   "execution_count": null,
   "metadata": {},
   "outputs": [],
   "source": []
  },
  {
   "cell_type": "code",
   "execution_count": null,
   "metadata": {},
   "outputs": [],
   "source": []
  }
 ],
 "metadata": {
  "kernelspec": {
   "display_name": "Python 3",
   "language": "python",
   "name": "python3"
  },
  "language_info": {
   "codemirror_mode": {
    "name": "ipython",
    "version": 3
   },
   "file_extension": ".py",
   "mimetype": "text/x-python",
   "name": "python",
   "nbconvert_exporter": "python",
   "pygments_lexer": "ipython3",
   "version": "3.7.4"
  }
 },
 "nbformat": 4,
 "nbformat_minor": 4
}
